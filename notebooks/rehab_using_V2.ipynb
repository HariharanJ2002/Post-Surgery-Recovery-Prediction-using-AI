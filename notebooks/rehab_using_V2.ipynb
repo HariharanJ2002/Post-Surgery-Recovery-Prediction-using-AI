{
 "cells": [
  {
   "cell_type": "markdown",
   "id": "d9b89720",
   "metadata": {},
   "source": [
    "# 🧠 Personalized Rehab Scoring with V2 Hybrid Model\n",
    "\n",
    "This notebook performs **real-time simulation of recovery prediction** using trained sub-models and the Hybrid Meta-Model V2. Unlike V1, this version uses true recovery outcomes (not synthetic targets), better cleaned data, and more reliable percentile and score calibration.\n",
    "\n",
    "This script loads saved models, prepares new patient data, predicts recovery outcomes, and generates a report to guide post-operative planning.\n"
   ]
  },
  {
   "cell_type": "markdown",
   "id": "ebf6cb3b",
   "metadata": {},
   "source": [
    "### 📦 Step 1: Load Dependencies\n",
    "\n",
    "This step loads essential Python libraries:\n",
    "- `pandas`, `numpy`: For data processing\n",
    "- `joblib`: To load trained models (.pkl files)\n",
    "- `os`: For file handling if needed\n",
    "\n",
    "These libraries power the **model inference engine** that simulates real patient evaluations.\n"
   ]
  },
  {
   "cell_type": "code",
   "execution_count": 1,
   "id": "39c6936c",
   "metadata": {},
   "outputs": [
    {
     "name": "stderr",
     "output_type": "stream",
     "text": [
      "c:\\Users\\P RAMA KISHORE RAJU\\AppData\\Local\\Programs\\Python\\Python313\\Lib\\site-packages\\tqdm\\auto.py:21: TqdmWarning: IProgress not found. Please update jupyter and ipywidgets. See https://ipywidgets.readthedocs.io/en/stable/user_install.html\n",
      "  from .autonotebook import tqdm as notebook_tqdm\n"
     ]
    }
   ],
   "source": [
    "# rehab_predictor\n",
    "\n",
    "import pandas as pd\n",
    "import numpy as np\n",
    "import shap\n",
    "import joblib\n",
    "import matplotlib.pyplot as plt\n",
    "\n",
    "from sklearn.ensemble import RandomForestRegressor\n",
    "from xgboost import XGBRegressor"
   ]
  },
  {
   "cell_type": "markdown",
   "id": "ee1cdb85",
   "metadata": {},
   "source": [
    "### 🧠 Step 2: Load Trained Cardiac, Mobility, and Meta Models\n",
    "\n",
    "We load three previously trained models from disk:\n",
    "- `cardiac_model.pkl`: Predicts recovery from ECG + treadmill features\n",
    "- `mobility_model.pkl`: Predicts mobility readiness from gait features\n",
    "- `meta_model_v2.pkl`: Combines the two into a final calibrated recovery score\n",
    "\n",
    "📌 This mirrors a deployed hospital server loading saved models during intake or review.\n"
   ]
  },
  {
   "cell_type": "code",
   "execution_count": 2,
   "id": "8238b819",
   "metadata": {},
   "outputs": [],
   "source": [
    "# Load Models\n",
    "cardiac_model = joblib.load(r\"D:\\AI_finaltrial\\project\\models\\cardiac_rf_model.pkl\")\n",
    "mobility_model = joblib.load(r\"D:\\AI_finaltrial\\project\\models\\mobility_xgb_model.pkl\")\n",
    "meta_model = joblib.load(r\"D:\\AI_finaltrial\\project\\models\\hybrid_meta_model_v2.pkl\")\n",
    "\n",
    "# Load feature templates\n",
    "ecg_features = pd.read_csv(r\"D:\\AI_finaltrial\\project\\results\\ecg_features1.csv\").rename(columns={\"Patient_ID\": \"Subject_ID\"})\n",
    "treadmill = pd.read_csv(r\"D:\\AI_finaltrial\\project\\data\\treadmildata\\treadmill_test_measure.csv\")\n",
    "wearable_info = pd.read_csv(r\"D:\\AI_finaltrial\\project\\data\\wearabledata\\Wearable_subject-info.csv\")\n",
    "wearable_avail = pd.read_csv(r\"D:\\AI_finaltrial\\project\\data\\wearabledata\\Wearable_test-availability.csv\")"
   ]
  },
  {
   "cell_type": "markdown",
   "id": "e6520888",
   "metadata": {},
   "source": [
    "### 🏃 Step 3: Extract Cardiac Features from Treadmill Data\n",
    "\n",
    "This function processes test logs to extract:\n",
    "- VO₂ max (peak oxygen consumption)\n",
    "- HR Recovery at 1-minute post peak\n",
    "- VE/VO₂ ratio\n",
    "\n",
    "These are standard cardiopulmonary recovery markers used in **rehab risk stratification**.\n",
    "\n",
    "📌 *Clinical Utility*: Enables the model to interpret **real physiological performance** instead of just raw waveform patterns.\n"
   ]
  },
  {
   "cell_type": "code",
   "execution_count": 3,
   "id": "0c281008",
   "metadata": {},
   "outputs": [],
   "source": [
    "# Compute treadmill metrics\n",
    "def compute_recovery_metrics(df):\n",
    "    grouped = df.groupby(\"ID_test\")\n",
    "    results = []\n",
    "    for test_id, group in grouped:\n",
    "        group = group.sort_values(by=\"time\").dropna(subset=[\"VO2\", \"HR\", \"VE\"])\n",
    "        if group.empty: continue\n",
    "        sid = group[\"ID\"].iloc[0]\n",
    "        try:\n",
    "            max_vo2 = group[\"VO2\"].max()\n",
    "            max_hr = group[\"HR\"].max()\n",
    "            t_max = group.loc[group[\"HR\"].idxmax()][\"time\"]\n",
    "            hr_rec = max_hr - group[group[\"time\"] >= t_max + 60].iloc[0][\"HR\"]\n",
    "            ve_vo2 = group.loc[group[\"VO2\"].idxmax()][\"VE\"] / group[\"VO2\"].max()\n",
    "        except:\n",
    "            continue\n",
    "        results.append({\"Subject_ID\": sid, \"VO2_max\": max_vo2, \"HR_recovery_1min\": hr_rec, \"VE_VO2_ratio\": ve_vo2})\n",
    "    return pd.DataFrame(results)"
   ]
  },
  {
   "cell_type": "markdown",
   "id": "b5343e40",
   "metadata": {},
   "source": [
    "### 🦿 Step 4: Clean Mobility Sensor Features\n",
    "\n",
    "Wearable test exports can contain `\"value ± SD\"` style entries. This utility:\n",
    "- Parses and extracts clean numeric values\n",
    "- Converts columns into usable features for model input\n",
    "\n",
    "📌 *Outcome*: Results in clean input for the mobility model — essential to avoid garbage-in, garbage-out effects during prediction.\n"
   ]
  },
  {
   "cell_type": "code",
   "execution_count": 4,
   "id": "7b43e294",
   "metadata": {},
   "outputs": [],
   "source": [
    "# Clean gait columns\n",
    "def clean_numeric_columns(df):\n",
    "    for col in df.columns:\n",
    "        if df[col].dtype == 'object' and df[col].str.contains(\"±\").any():\n",
    "            df[col] = df[col].str.extract(r'([-+]?[0-9]*\\.?[0-9]+)').astype(float)\n",
    "    return df\n",
    "\n",
    "# Base data\n",
    "recovery_metrics = compute_recovery_metrics(treadmill)\n",
    "cardiac_df = pd.merge(ecg_features, recovery_metrics, on=\"Subject_ID\").drop(columns=[\"Subject_ID\"], errors=\"ignore\")\n",
    "\n",
    "wearable_merged = pd.merge(wearable_info, wearable_avail, on=\"Patient ID\")\n",
    "wearable_cleaned = clean_numeric_columns(wearable_merged)\n",
    "wearable_cleaned = wearable_cleaned.select_dtypes(include=[np.number]).drop(columns=[\"Patient ID\"], errors=\"ignore\").fillna(0)\n",
    "\n",
    "X_card_base = cardiac_df[cardiac_model.feature_names_in_]\n",
    "X_mob_base = wearable_cleaned[mobility_model.feature_names_in_]"
   ]
  },
  {
   "cell_type": "markdown",
   "id": "3b2332a2",
   "metadata": {},
   "source": [
    "### 📂 Step 5: Load Test Patient Input Data\n",
    "\n",
    "This loads 3 separate patient data inputs:\n",
    "- `rehab_test_cases.csv`: Patient metadata\n",
    "- `ecg_features1.csv`: Processed cardiac features\n",
    "- `mhealth_features_summary.csv`: Wearable-derived gait features\n",
    "\n",
    "📌 *Purpose*: These files are passed through the prediction pipeline to simulate how new patients would be scored.\n",
    "\n",
    "---\n",
    "\n",
    "### 🧮 Step 6: Predict Recovery Outcomes\n",
    "\n",
    "In this critical step:\n",
    "1. We pass cleaned treadmill data to the **cardiac model**\n",
    "2. Wearable gait data goes into the **mobility model**\n",
    "3. Their outputs are combined into `X_meta`, a 2-feature DataFrame\n",
    "4. `meta_model_v2` processes that to generate the **final recovery score**\n",
    "\n",
    "📌 This is exactly how the model would score patients in a hospital by taking two streams of evidence and merging them into a single, interpretable metric.\n",
    "\n",
    "---\n",
    "\n",
    "### 📏 Step 7: Translate Model Score into Estimated Recovery Days\n",
    "\n",
    "We convert the final hybrid score to a **predicted recovery duration** (in days) using the formula:\n",
    "```python\n",
    "Recovery Days = (3.0 - Score) * 30 + 60\n"
   ]
  },
  {
   "cell_type": "code",
   "execution_count": 5,
   "id": "14461184",
   "metadata": {},
   "outputs": [],
   "source": [
    "# Load CSV of patients to simulate\n",
    "patients_df = pd.read_csv(r\"D:\\AI_finaltrial\\project\\results\\rehab_test_cases.csv\")\n",
    "\n",
    "all_reports = []\n",
    "\n",
    "for i, row in patients_df.iterrows():\n",
    "    ecg_row = X_card_base.sample(1).copy()\n",
    "    mob_row = X_mob_base.sample(1).copy()\n",
    "\n",
    "    # Inject test data\n",
    "    ecg_row[\"VO2_max\"] = row[\"VO2_max\"]\n",
    "    ecg_row[\"HR_recovery_1min\"] = row[\"HR_recovery_1min\"]\n",
    "    ecg_row[\"VE_VO2_ratio\"] = row[\"VE_VO2_ratio\"]\n",
    "\n",
    "    mob_row[\"Velocity, km/h\"] = row[\"Velocity_kmph\"]\n",
    "    mob_row[\"Cadence, steps/min\"] = row[\"Cadence\"]\n",
    "    mob_row[\"Stride time, s\"] = row[\"Stride_time\"]\n",
    "\n",
    "    # Predict\n",
    "    cardiac_score = float(cardiac_model.predict(ecg_row)[0])\n",
    "    mobility_score = float(mobility_model.predict(mob_row)[0])\n",
    "    final_score = float(meta_model.predict(pd.DataFrame([{\n",
    "        'Cardiac_Score': cardiac_score,\n",
    "        'Mobility_Score': mobility_score\n",
    "    }]))[0])\n",
    "\n",
    "    final_score = min(max(final_score, 0), 3)\n",
    "    recovery_days = int(180 - final_score * 50)\n",
    "\n",
    "    # SHAP analysis\n",
    "    explainer = shap.Explainer(meta_model)\n",
    "    shap_values = explainer(pd.DataFrame([{\"Cardiac_Score\": cardiac_score, \"Mobility_Score\": mobility_score}]))\n",
    "    shap.plots.bar(shap_values, max_display=2, show=False)\n",
    "    plt.title(f\"SHAP Impact for Patient {i+1}\")\n",
    "    plt.tight_layout()\n",
    "    plt.savefig(f\"patient_{i+1}_shap.png\")\n",
    "    plt.close()\n",
    "\n",
    "    # Recommendations\n",
    "    suggestions = []\n",
    "    if cardiac_score < 40:\n",
    "        suggestions.append(\"Increase supervised cardio rehab\")\n",
    "    if mobility_score < 100:\n",
    "        suggestions.append(\"Continue mobility strengthening\")\n",
    "    if cardiac_score > 80 and mobility_score > 140:\n",
    "        suggestions.append(\"Ready for transition to independent rehab\")\n",
    "    if mobility_score > 120 and cardiac_score < 50:\n",
    "        suggestions.append(\"High mobility, monitor cardiac stress tolerance\")\n",
    "\n",
    "    all_reports.append({\n",
    "        \"Patient_ID\": i+1,\n",
    "        \"VO2_max\": row[\"VO2_max\"],\n",
    "        \"HR_recovery_1min\": row[\"HR_recovery_1min\"],\n",
    "        \"VE_VO2_ratio\": row[\"VE_VO2_ratio\"],\n",
    "        \"Velocity\": row[\"Velocity_kmph\"],\n",
    "        \"Cadence\": row[\"Cadence\"],\n",
    "        \"Stride_time\": row[\"Stride_time\"],\n",
    "        \"Cardiac_Score\": round(cardiac_score, 2),\n",
    "        \"Mobility_Score\": round(mobility_score, 2),\n",
    "        \"Final_Score\": round(final_score, 2),\n",
    "        \"Recovery_Days\": recovery_days,\n",
    "        \"Suggestions\": \"; \".join(suggestions)\n",
    "    })\n"
   ]
  },
  {
   "cell_type": "markdown",
   "id": "4ae8e405",
   "metadata": {},
   "source": [
    "### 📝 Step 8: Generate Output Report\n",
    "\n",
    "We compile the results into a structured table containing:\n",
    "- Submodel scores (cardiac + mobility)\n",
    "- Final recovery prediction\n",
    "- Translated recovery estimate (days)\n",
    "\n",
    "Saved as: `rehab_prediction_v2_report.csv`\n",
    "\n",
    "📌 *Impact*: This file is ready for clinician facing tools like:\n",
    "\n",
    "- Electronic Medical Record (EMR) integration\n",
    "- Rehab scheduling dashboards\n",
    "- Post-discharge planning software\n"
   ]
  },
  {
   "cell_type": "code",
   "execution_count": 6,
   "id": "eb25b420",
   "metadata": {},
   "outputs": [
    {
     "name": "stdout",
     "output_type": "stream",
     "text": [
      "✔️ All predictions complete. Output saved as 'rehab_batch_report.csv'\n"
     ]
    }
   ],
   "source": [
    "# Export summary report\n",
    "report_df = pd.DataFrame(all_reports)\n",
    "report_df.to_csv(r\"D:\\AI_finaltrial\\finalmodels\\rehab_batch_report_using_V2.csv\", index=False)\n",
    "print(\"✔️ All predictions complete. Output saved as 'rehab_batch_report.csv'\")\n"
   ]
  }
 ],
 "metadata": {
  "kernelspec": {
   "display_name": "Python 3",
   "language": "python",
   "name": "python3"
  },
  "language_info": {
   "codemirror_mode": {
    "name": "ipython",
    "version": 3
   },
   "file_extension": ".py",
   "mimetype": "text/x-python",
   "name": "python",
   "nbconvert_exporter": "python",
   "pygments_lexer": "ipython3",
   "version": "3.13.2"
  }
 },
 "nbformat": 4,
 "nbformat_minor": 5
}
