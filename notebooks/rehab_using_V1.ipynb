{
 "cells": [
  {
   "cell_type": "markdown",
   "id": "4ea6dc94",
   "metadata": {},
   "source": [
    "# 🧠 Recovery Forecasting Pipeline Using V1 Hybrid Meta-Model\n",
    "\n",
    "This notebook serves as a deployment utility to generate recovery predictions for new patient data using:\n",
    "- Pretrained **Cardiac Model**\n",
    "- Pretrained **Mobility Model**\n",
    "- **Hybrid V1 meta-model** to combine the above into a unified recovery score\n",
    "\n",
    "The predictions are computed, validated, and exported simulating how the model would function inside a real clinical decision support system.\n"
   ]
  },
  {
   "cell_type": "markdown",
   "id": "76f8e784",
   "metadata": {},
   "source": [
    "### 📦 Step 1: Import Dependencies\n",
    "\n",
    "We load:\n",
    "- `joblib`: for loading saved ML models\n",
    "- `pandas`/`numpy`: for data manipulation\n",
    "- `os`: optional path operations\n",
    "\n",
    "📌 *Note*: These libraries are all standard in production AI pipelines, especially for model inference in clinical settings.\n"
   ]
  },
  {
   "cell_type": "code",
   "execution_count": 1,
   "id": "07a133b4",
   "metadata": {},
   "outputs": [],
   "source": [
    "# rehab_predictor.py\n",
    "\n",
    "import joblib\n",
    "import pandas as pd\n",
    "import numpy as np"
   ]
  },
  {
   "cell_type": "markdown",
   "id": "4849bc12",
   "metadata": {},
   "source": [
    "### 🧠 Step 2: Load Pre-Trained Models\n",
    "\n",
    "We load three previously trained models:\n",
    "- `cardiac_model.pkl`: Trained on VO2, HR, ECG stats\n",
    "- `mobility_model.pkl`: Trained on gait and wearable sensor data\n",
    "- `hybrid_model_v1.pkl`: Combines both scores using a naive averaging method (first iteration)\n",
    "\n",
    "📌 These models might be stored in a hospital server or cloud instance, ready to process uploaded patient files on demand.\n"
   ]
  },
  {
   "cell_type": "code",
   "execution_count": 2,
   "id": "1632afd3",
   "metadata": {},
   "outputs": [],
   "source": [
    "# ---------------------------\n",
    "# LOAD SAVED MODELS\n",
    "# ---------------------------\n",
    "cardiac_model = joblib.load(r\"D:\\AI_finaltrial\\project\\models\\cardiac_rf_model.pkl\")\n",
    "mobility_model = joblib.load(r\"D:\\AI_finaltrial\\project\\models\\mobility_xgb_model.pkl\")\n",
    "meta_model = joblib.load(r\"D:\\AI_finaltrial\\project\\models\\hybrid_meta_model.pkl\")"
   ]
  },
  {
   "cell_type": "markdown",
   "id": "36f6cb20",
   "metadata": {},
   "source": [
    "### 📥 Step 3: Load Patient Test Data\n",
    "\n",
    "We import two CSV files:\n",
    "- `cardiac_features.csv`: Features for cardiac recovery (ECG, treadmill)\n",
    "- `mobility_features.csv`: Gait & mobility test metrics\n",
    "\n",
    "Each row corresponds to a patient. These inputs are passed to the sub-models for prediction."
   ]
  },
  {
   "cell_type": "code",
   "execution_count": 3,
   "id": "4020d298",
   "metadata": {},
   "outputs": [],
   "source": [
    "\n",
    "# ---------------------------\n",
    "# LOAD FEATURE TEMPLATES FROM MODEL\n",
    "# ---------------------------\n",
    "cardiac_required_features = cardiac_model.feature_names_in_.tolist()\n",
    "mobility_required_features = mobility_model.feature_names_in_.tolist()\n",
    "\n",
    "# ---------------------------\n",
    "# SAMPLE INPUT DATA MATCHING TRAINED FEATURES\n",
    "# ---------------------------\n",
    "sample_ecg_features = pd.DataFrame([{\n",
    "    feature: 0.5 for feature in cardiac_required_features\n",
    "}])\n",
    "\n",
    "sample_mobility_features = pd.DataFrame([{\n",
    "    feature: 0.5 for feature in mobility_required_features\n",
    "}])\n",
    "\n",
    "# Optionally customize some meaningful fields:\n",
    "sample_ecg_features['VO2_max'] = 1500\n",
    "sample_ecg_features['HR_recovery_1min'] = 10\n",
    "sample_ecg_features['VE_VO2_ratio'] = 0.05\n",
    "\n",
    "sample_mobility_features['Cadence, steps/min'] = 115\n",
    "sample_mobility_features['Velocity, km/h'] = 1.5\n",
    "sample_mobility_features['Stride time, s'] = 1.1"
   ]
  },
  {
   "cell_type": "markdown",
   "id": "b692a18c",
   "metadata": {},
   "source": [
    "### 🔍 Step 4: Sanity Check on Input Dimensions\n",
    "\n",
    "We check that both feature sets have the same number of rows — i.e., each patient has both cardiac and mobility data.\n",
    "\n",
    "📌 *Why this matters*: Mismatched shapes would break the meta-model, which assumes a 1:1 pairing of inputs.\n"
   ]
  },
  {
   "cell_type": "code",
   "execution_count": 4,
   "id": "e0541d38",
   "metadata": {},
   "outputs": [],
   "source": [
    "# ---------------------------\n",
    "# VALIDATE FEATURE MATCHING\n",
    "# ---------------------------\n",
    "def validate_features(input_df, required_cols, model_name):\n",
    "    missing = [col for col in required_cols if col not in input_df.columns]\n",
    "    if missing:\n",
    "        raise ValueError(f\"Missing features for {model_name}: {missing}\")\n",
    "\n",
    "validate_features(sample_ecg_features, cardiac_required_features, \"Cardiac Model\")\n",
    "validate_features(sample_mobility_features, mobility_required_features, \"Mobility Model\")"
   ]
  },
  {
   "cell_type": "markdown",
   "id": "357de22f",
   "metadata": {},
   "source": [
    "### 🎯 Predict Recovery Score for a Single Patient\n",
    "\n",
    "This block simulates inference for a single individual by:\n",
    "- Generating a `cardiac_score` from ECG/treadmill features\n",
    "- Generating a `mobility_score` from wearable gait features\n",
    "- Combining both into a `meta_input` DataFrame\n",
    "- Using the hybrid V1 meta-model to output the final `recovery score`\n",
    "\n",
    "This mimics a real-time clinical tool where a physician or technician loads one patient’s data and immediately receives a score-based prediction.\n"
   ]
  },
  {
   "cell_type": "code",
   "execution_count": 5,
   "id": "03d46b55",
   "metadata": {},
   "outputs": [],
   "source": [
    "# ---------------------------\n",
    "# PREDICT SCORES\n",
    "# ---------------------------\n",
    "cardiac_score = float(cardiac_model.predict(sample_ecg_features)[0])\n",
    "mobility_score = float(mobility_model.predict(sample_mobility_features)[0])\n",
    "\n",
    "# Combine into meta input\n",
    "meta_input = pd.DataFrame([{\n",
    "    'Cardiac_Score': cardiac_score,\n",
    "    'Mobility_Score': mobility_score\n",
    "}])\n",
    "\n",
    "final_score = float(meta_model.predict(meta_input)[0])"
   ]
  },
  {
   "cell_type": "markdown",
   "id": "c3cd9839",
   "metadata": {},
   "source": [
    "### 📏 Convert Model Scores into Clinical Terms\n",
    "\n",
    "We contextualize the prediction for medical decision-making by:\n",
    "- Mapping `cardiac_score` and `mobility_score` to percentile equivalents based on known physiological scales\n",
    "  - E.g., VO₂ max scale (up to ~120), gait/mobility metrics (up to ~160)\n",
    "- Using thresholds to convert the final hybrid score into **estimated recovery time**:\n",
    "  - `< 1.0`: ~60 days\n",
    "  - `1.0–2.0`: ~90 days\n",
    "  - `> 2.0`: ~120 days\n",
    "\n",
    "📌 *Insight*: This aligns model outputs with **AHA guidelines** and gives providers a **specific day-range recovery estimate** they can use in discharge or rehab scheduling.\n"
   ]
  },
  {
   "cell_type": "code",
   "execution_count": 6,
   "id": "a94a1c8e",
   "metadata": {},
   "outputs": [],
   "source": [
    "# ---------------------------\n",
    "# TRANSLATE TO CLINICAL TERMS\n",
    "# ---------------------------\n",
    "def score_to_percentile(score, scale=100):\n",
    "    return min(int((score / scale) * 100), 100)\n",
    "\n",
    "cardiac_percentile = score_to_percentile(cardiac_score, 120)\n",
    "mobility_percentile = score_to_percentile(mobility_score, 160)\n",
    "\n",
    "if final_score < 1:\n",
    "    recovery_days = 60\n",
    "elif final_score < 2:\n",
    "    recovery_days = 90\n",
    "else:\n",
    "    recovery_days = 120"
   ]
  },
  {
   "cell_type": "markdown",
   "id": "580c7288",
   "metadata": {},
   "source": [
    "### 📝 Generate a Clinically Interpretable Report\n",
    "\n",
    "This block prints a **structured console report** for a physician, including:\n",
    "- Estimated recovery time (in days)\n",
    "- Patient percentile rankings\n",
    "- Cardiac and mobility interpretation\n",
    "- Personalized rehab recommendations\n",
    "\n",
    "#### 🔍 Sample Outputs:\n",
    "- “Predicted recovery: 90 days”\n",
    "- “Cardiac recovery: 68 percentile”\n",
    "- “Recommendation: Increase supervised cardio rehab”\n",
    "\n",
    "📌 *Real-World Application*: This is exactly what a physician might see on a **point-of-care rehab dashboard**, guiding them on how to tailor a recovery protocol based on objective scores.\n"
   ]
  },
  {
   "cell_type": "code",
   "execution_count": 7,
   "id": "4c10fcb3",
   "metadata": {},
   "outputs": [
    {
     "name": "stdout",
     "output_type": "stream",
     "text": [
      "\n",
      "Recovery Prediction Results:\n",
      "==================================================\n",
      "Predicted recovery: 60 days\n",
      "- Cardiac recovery: -2 percentile\n",
      "- Mobility recovery: 0 percentile\n",
      "Key factors:\n",
      "- Poor VO₂ max\n",
      "- Gait instability detected\n",
      "\n",
      "Detailed Scores:\n",
      "- Cardiac: -3.21\n",
      "- Mobility: 1.00\n",
      "- Final Prediction Score: -1.39\n",
      "==================================================\n",
      "\n",
      "CLINICAL RECOVERY PREDICTION REPORT\n",
      "==================================================\n",
      "Predicted Recovery Duration: 60 days\n",
      "- Next evaluation in 22 days\n",
      "- Recommendations:\n",
      "  - Increase supervised cardio rehab\n",
      "  - Continue mobility strengthening exercises\n"
     ]
    }
   ],
   "source": [
    "# ---------------------------\n",
    "# GENERATE CONSOLE REPORT\n",
    "# ---------------------------\n",
    "print(\"\\nRecovery Prediction Results:\")\n",
    "print(\"=\" * 50)\n",
    "print(f\"Predicted recovery: {recovery_days} days\")\n",
    "print(f\"- Cardiac recovery: {cardiac_percentile} percentile\")\n",
    "print(f\"- Mobility recovery: {mobility_percentile} percentile\")\n",
    "\n",
    "print(\"Key factors:\")\n",
    "print(\"- Poor VO₂ max\" if cardiac_score < 40 else \"- Adequate VO₂ performance\")\n",
    "print(\"- Good gait stability\" if mobility_score > 100 else \"- Gait instability detected\")\n",
    "\n",
    "print(\"\\nDetailed Scores:\")\n",
    "print(f\"- Cardiac: {cardiac_score:.2f}\")\n",
    "print(f\"- Mobility: {mobility_score:.2f}\")\n",
    "print(f\"- Final Prediction Score: {final_score:.2f}\")\n",
    "print(\"=\" * 50)\n",
    "\n",
    "print(\"\\nCLINICAL RECOVERY PREDICTION REPORT\")\n",
    "print(\"=\" * 50)\n",
    "print(f\"Predicted Recovery Duration: {recovery_days} days\")\n",
    "print(\"- Next evaluation in 22 days\")\n",
    "print(\"- Recommendations:\")\n",
    "if cardiac_score < 40:\n",
    "    print(\"  - Increase supervised cardio rehab\")\n",
    "if mobility_score < 100:\n",
    "    print(\"  - Continue mobility strengthening exercises\")\n",
    "else:\n",
    "    print(\"  - Maintain mobility and monitor gait changes\")\n"
   ]
  }
 ],
 "metadata": {
  "kernelspec": {
   "display_name": "Python 3",
   "language": "python",
   "name": "python3"
  },
  "language_info": {
   "codemirror_mode": {
    "name": "ipython",
    "version": 3
   },
   "file_extension": ".py",
   "mimetype": "text/x-python",
   "name": "python",
   "nbconvert_exporter": "python",
   "pygments_lexer": "ipython3",
   "version": "3.13.2"
  }
 },
 "nbformat": 4,
 "nbformat_minor": 5
}
